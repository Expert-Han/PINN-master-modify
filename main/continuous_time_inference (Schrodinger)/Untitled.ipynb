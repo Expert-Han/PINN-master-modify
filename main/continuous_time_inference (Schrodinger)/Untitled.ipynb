{
 "cells": [
  {
   "cell_type": "code",
   "execution_count": 26,
   "id": "f2607a24",
   "metadata": {},
   "outputs": [],
   "source": [
    "import sys\n",
    "sys.path.insert(0, '/home/hana/Downloads/code_example0613/PINNs-master/Utilities/')\n",
    "\n",
    "import tensorflow as tf\n",
    "import numpy as np\n",
    "import matplotlib.pyplot as plt\n",
    "import scipy.io\n",
    "from scipy.interpolate import griddata\n",
    "from pyDOE import lhs\n",
    "from plotting import newfig, savefig\n",
    "from mpl_toolkits.mplot3d import Axes3D\n",
    "import time\n",
    "import matplotlib.gridspec as gridspec\n",
    "from mpl_toolkits.axes_grid1 import make_axes_locatable\n",
    "\n",
    "\n",
    "\n",
    "a1= np.random.seed(1234)\n",
    "a2 = tf.set_random_seed(1234)"
   ]
  },
  {
   "cell_type": "code",
   "execution_count": 29,
   "id": "091cfb38",
   "metadata": {},
   "outputs": [
    {
     "name": "stdout",
     "output_type": "stream",
     "text": [
      "[[1 3 0 0]\n",
      " [2 4 0 0]\n",
      " [4 5 0 0]]\n",
      "[[1 3 0 0 0 0]\n",
      " [2 4 0 0 0 0]\n",
      " [4 5 0 0 0 0]]\n"
     ]
    }
   ],
   "source": [
    "x0 = np.array([[1,3],[2,4], [4,5]])\n",
    "X0 = np.concatenate((x0, 0*x0), 1) # (x0, 0)\n",
    "print(X0)\n",
    "X0 = np.concatenate((X0, 0*x0), 1) # (x0, 0)\n",
    "print(X0)\n",
    "\n"
   ]
  }
 ],
 "metadata": {
  "kernelspec": {
   "display_name": "python3.7 PIML2",
   "language": "python",
   "name": "piml2"
  },
  "language_info": {
   "codemirror_mode": {
    "name": "ipython",
    "version": 3
   },
   "file_extension": ".py",
   "mimetype": "text/x-python",
   "name": "python",
   "nbconvert_exporter": "python",
   "pygments_lexer": "ipython3",
   "version": "3.7.0"
  }
 },
 "nbformat": 4,
 "nbformat_minor": 5
}

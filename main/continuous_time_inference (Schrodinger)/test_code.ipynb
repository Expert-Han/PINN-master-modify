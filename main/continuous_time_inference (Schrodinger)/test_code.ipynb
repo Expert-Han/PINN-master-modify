
import sys
sys.path.insert(0, '/home/hana/Downloads/code_example0613/PINNs-master/Utilities/')
import numpy as np
import matplotlib.pyplot as plt
import scipy.io
from scipy.interpolate import griddata
from pyDOE import lhs
from plotting import newfig, savefig
import matplotlib.gridspec as gridspec
from mpl_toolkits.axes_grid1 import make_axes_locatable


# Doman bounds
lb = np.array([-5.0, 0.0])
ub = np.array([5.0, np.pi/2])

fig, ax = newfig(1.0, 0.9)
ax.axis('off')
ax.plot(lb,ub)

#plt.show()
